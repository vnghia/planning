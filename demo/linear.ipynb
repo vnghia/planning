{
 "cells": [
  {
   "cell_type": "code",
   "execution_count": null,
   "metadata": {},
   "outputs": [],
   "source": [
    "from env import Env\n"
   ]
  },
  {
   "cell_type": "code",
   "execution_count": null,
   "metadata": {},
   "outputs": [],
   "source": [
    "env = Env(3, 2, 0.1, 0.1, 0.3, 0.3, 3, 3)\n",
    "env.train()\n",
    "env.show_policy()\n"
   ]
  },
  {
   "cell_type": "code",
   "execution_count": null,
   "metadata": {},
   "outputs": [],
   "source": [
    "env = Env(3, 2, 0.1, 0.1, 0.3, 0.3, 3, 3)\n",
    "env.train(gamma=0.99, ls=3500000)\n",
    "env.show_policy()\n"
   ]
  }
 ],
 "metadata": {
  "interpreter": {
   "hash": "1340b0b46635cbf3a0800530d544c53124e3f971809598f633a28cb3cf8f0406"
  },
  "kernelspec": {
   "display_name": "Python 3.9.13 ('sci')",
   "language": "python",
   "name": "python3"
  },
  "language_info": {
   "codemirror_mode": {
    "name": "ipython",
    "version": 3
   },
   "file_extension": ".py",
   "mimetype": "text/x-python",
   "name": "python",
   "nbconvert_exporter": "python",
   "pygments_lexer": "ipython3",
   "version": "3.9.13"
  },
  "orig_nbformat": 4
 },
 "nbformat": 4,
 "nbformat_minor": 2
}
