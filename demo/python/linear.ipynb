{
 "cells": [
  {
   "cell_type": "code",
   "execution_count": null,
   "metadata": {},
   "outputs": [],
   "source": [
    "from planning import SmallEnv\n",
    "import numpy as np\n"
   ]
  },
  {
   "cell_type": "code",
   "execution_count": null,
   "metadata": {},
   "outputs": [],
   "source": [
    "env = SmallEnv([3, 2], [0.1, 0.1], [0.3, 0.3])\n",
    "env.train()\n",
    "np.argmax(env.q, axis=-1)\n"
   ]
  }
 ],
 "metadata": {
  "interpreter": {
   "hash": "21e8e0f977e4ade89da375438a3a84c6f73b8bbbd775eb291e4bc98eae5b0027"
  },
  "kernelspec": {
   "display_name": "Python 3.8.10 ('sci')",
   "language": "python",
   "name": "python3"
  },
  "language_info": {
   "codemirror_mode": {
    "name": "ipython",
    "version": 3
   },
   "file_extension": ".py",
   "mimetype": "text/x-python",
   "name": "python",
   "nbconvert_exporter": "python",
   "pygments_lexer": "ipython3",
   "version": "3.8.10"
  },
  "orig_nbformat": 4
 },
 "nbformat": 4,
 "nbformat_minor": 2
}
